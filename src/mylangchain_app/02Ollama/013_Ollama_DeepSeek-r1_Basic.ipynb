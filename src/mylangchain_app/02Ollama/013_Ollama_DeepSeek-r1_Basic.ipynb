{
 "cells": [
  {
   "cell_type": "markdown",
   "metadata": {},
   "source": [
    "#### 1. 패키지 설치"
   ]
  },
  {
   "cell_type": "code",
   "execution_count": null,
   "metadata": {},
   "outputs": [],
   "source": []
  },
  {
   "cell_type": "code",
   "execution_count": 8,
   "metadata": {},
   "outputs": [
    {
     "name": "stdout",
     "output_type": "stream",
     "text": [
      "Note: you may need to restart the kernel to use updated packages.\n",
      "Note: you may need to restart the kernel to use updated packages.\n"
     ]
    }
   ],
   "source": [
    "%pip install -q langchain\n",
    "%pip install -q langchain-ollama"
   ]
  },
  {
   "cell_type": "code",
   "execution_count": 14,
   "metadata": {},
   "outputs": [
    {
     "name": "stdout",
     "output_type": "stream",
     "text": [
      "Requirement already satisfied: langchain-community in c:\\users\\user\\appdata\\local\\pypoetry\\cache\\virtualenvs\\mylangchain-app-sbe-yh6w-py3.12\\lib\\site-packages (0.3.29)\n",
      "Requirement already satisfied: langchain-core<2.0.0,>=0.3.75 in c:\\users\\user\\appdata\\local\\pypoetry\\cache\\virtualenvs\\mylangchain-app-sbe-yh6w-py3.12\\lib\\site-packages (from langchain-community) (0.3.76)\n",
      "Requirement already satisfied: langchain<2.0.0,>=0.3.27 in c:\\users\\user\\appdata\\local\\pypoetry\\cache\\virtualenvs\\mylangchain-app-sbe-yh6w-py3.12\\lib\\site-packages (from langchain-community) (0.3.27)\n",
      "Requirement already satisfied: SQLAlchemy<3,>=1.4 in c:\\users\\user\\appdata\\local\\pypoetry\\cache\\virtualenvs\\mylangchain-app-sbe-yh6w-py3.12\\lib\\site-packages (from langchain-community) (2.0.43)\n",
      "Requirement already satisfied: requests<3,>=2.32.5 in c:\\users\\user\\appdata\\local\\pypoetry\\cache\\virtualenvs\\mylangchain-app-sbe-yh6w-py3.12\\lib\\site-packages (from langchain-community) (2.32.5)\n",
      "Requirement already satisfied: PyYAML>=5.3 in c:\\users\\user\\appdata\\local\\pypoetry\\cache\\virtualenvs\\mylangchain-app-sbe-yh6w-py3.12\\lib\\site-packages (from langchain-community) (6.0.2)\n",
      "Requirement already satisfied: aiohttp<4.0.0,>=3.8.3 in c:\\users\\user\\appdata\\local\\pypoetry\\cache\\virtualenvs\\mylangchain-app-sbe-yh6w-py3.12\\lib\\site-packages (from langchain-community) (3.12.15)\n",
      "Requirement already satisfied: tenacity!=8.4.0,<10,>=8.1.0 in c:\\users\\user\\appdata\\local\\pypoetry\\cache\\virtualenvs\\mylangchain-app-sbe-yh6w-py3.12\\lib\\site-packages (from langchain-community) (9.1.2)\n",
      "Requirement already satisfied: dataclasses-json<0.7,>=0.6.7 in c:\\users\\user\\appdata\\local\\pypoetry\\cache\\virtualenvs\\mylangchain-app-sbe-yh6w-py3.12\\lib\\site-packages (from langchain-community) (0.6.7)\n",
      "Requirement already satisfied: pydantic-settings<3.0.0,>=2.10.1 in c:\\users\\user\\appdata\\local\\pypoetry\\cache\\virtualenvs\\mylangchain-app-sbe-yh6w-py3.12\\lib\\site-packages (from langchain-community) (2.10.1)\n",
      "Requirement already satisfied: langsmith>=0.1.125 in c:\\users\\user\\appdata\\local\\pypoetry\\cache\\virtualenvs\\mylangchain-app-sbe-yh6w-py3.12\\lib\\site-packages (from langchain-community) (0.4.28)\n",
      "Requirement already satisfied: httpx-sse<1.0.0,>=0.4.0 in c:\\users\\user\\appdata\\local\\pypoetry\\cache\\virtualenvs\\mylangchain-app-sbe-yh6w-py3.12\\lib\\site-packages (from langchain-community) (0.4.1)\n",
      "Requirement already satisfied: numpy>=1.26.2 in c:\\users\\user\\appdata\\local\\pypoetry\\cache\\virtualenvs\\mylangchain-app-sbe-yh6w-py3.12\\lib\\site-packages (from langchain-community) (2.3.3)\n",
      "Requirement already satisfied: aiohappyeyeballs>=2.5.0 in c:\\users\\user\\appdata\\local\\pypoetry\\cache\\virtualenvs\\mylangchain-app-sbe-yh6w-py3.12\\lib\\site-packages (from aiohttp<4.0.0,>=3.8.3->langchain-community) (2.6.1)\n",
      "Requirement already satisfied: aiosignal>=1.4.0 in c:\\users\\user\\appdata\\local\\pypoetry\\cache\\virtualenvs\\mylangchain-app-sbe-yh6w-py3.12\\lib\\site-packages (from aiohttp<4.0.0,>=3.8.3->langchain-community) (1.4.0)\n",
      "Requirement already satisfied: attrs>=17.3.0 in c:\\users\\user\\appdata\\local\\pypoetry\\cache\\virtualenvs\\mylangchain-app-sbe-yh6w-py3.12\\lib\\site-packages (from aiohttp<4.0.0,>=3.8.3->langchain-community) (25.3.0)\n",
      "Requirement already satisfied: frozenlist>=1.1.1 in c:\\users\\user\\appdata\\local\\pypoetry\\cache\\virtualenvs\\mylangchain-app-sbe-yh6w-py3.12\\lib\\site-packages (from aiohttp<4.0.0,>=3.8.3->langchain-community) (1.7.0)\n",
      "Requirement already satisfied: multidict<7.0,>=4.5 in c:\\users\\user\\appdata\\local\\pypoetry\\cache\\virtualenvs\\mylangchain-app-sbe-yh6w-py3.12\\lib\\site-packages (from aiohttp<4.0.0,>=3.8.3->langchain-community) (6.6.4)\n",
      "Requirement already satisfied: propcache>=0.2.0 in c:\\users\\user\\appdata\\local\\pypoetry\\cache\\virtualenvs\\mylangchain-app-sbe-yh6w-py3.12\\lib\\site-packages (from aiohttp<4.0.0,>=3.8.3->langchain-community) (0.3.2)\n",
      "Requirement already satisfied: yarl<2.0,>=1.17.0 in c:\\users\\user\\appdata\\local\\pypoetry\\cache\\virtualenvs\\mylangchain-app-sbe-yh6w-py3.12\\lib\\site-packages (from aiohttp<4.0.0,>=3.8.3->langchain-community) (1.20.1)\n",
      "Requirement already satisfied: marshmallow<4.0.0,>=3.18.0 in c:\\users\\user\\appdata\\local\\pypoetry\\cache\\virtualenvs\\mylangchain-app-sbe-yh6w-py3.12\\lib\\site-packages (from dataclasses-json<0.7,>=0.6.7->langchain-community) (3.26.1)\n",
      "Requirement already satisfied: typing-inspect<1,>=0.4.0 in c:\\users\\user\\appdata\\local\\pypoetry\\cache\\virtualenvs\\mylangchain-app-sbe-yh6w-py3.12\\lib\\site-packages (from dataclasses-json<0.7,>=0.6.7->langchain-community) (0.9.0)\n",
      "Requirement already satisfied: langchain-text-splitters<1.0.0,>=0.3.9 in c:\\users\\user\\appdata\\local\\pypoetry\\cache\\virtualenvs\\mylangchain-app-sbe-yh6w-py3.12\\lib\\site-packages (from langchain<2.0.0,>=0.3.27->langchain-community) (0.3.11)\n",
      "Requirement already satisfied: pydantic<3.0.0,>=2.7.4 in c:\\users\\user\\appdata\\local\\pypoetry\\cache\\virtualenvs\\mylangchain-app-sbe-yh6w-py3.12\\lib\\site-packages (from langchain<2.0.0,>=0.3.27->langchain-community) (2.11.9)\n",
      "Requirement already satisfied: jsonpatch<2.0,>=1.33 in c:\\users\\user\\appdata\\local\\pypoetry\\cache\\virtualenvs\\mylangchain-app-sbe-yh6w-py3.12\\lib\\site-packages (from langchain-core<2.0.0,>=0.3.75->langchain-community) (1.33)\n",
      "Requirement already satisfied: typing-extensions>=4.7 in c:\\users\\user\\appdata\\local\\pypoetry\\cache\\virtualenvs\\mylangchain-app-sbe-yh6w-py3.12\\lib\\site-packages (from langchain-core<2.0.0,>=0.3.75->langchain-community) (4.15.0)\n",
      "Requirement already satisfied: packaging>=23.2 in c:\\users\\user\\appdata\\local\\pypoetry\\cache\\virtualenvs\\mylangchain-app-sbe-yh6w-py3.12\\lib\\site-packages (from langchain-core<2.0.0,>=0.3.75->langchain-community) (25.0)\n",
      "Requirement already satisfied: jsonpointer>=1.9 in c:\\users\\user\\appdata\\local\\pypoetry\\cache\\virtualenvs\\mylangchain-app-sbe-yh6w-py3.12\\lib\\site-packages (from jsonpatch<2.0,>=1.33->langchain-core<2.0.0,>=0.3.75->langchain-community) (3.0.0)\n",
      "Requirement already satisfied: annotated-types>=0.6.0 in c:\\users\\user\\appdata\\local\\pypoetry\\cache\\virtualenvs\\mylangchain-app-sbe-yh6w-py3.12\\lib\\site-packages (from pydantic<3.0.0,>=2.7.4->langchain<2.0.0,>=0.3.27->langchain-community) (0.7.0)\n",
      "Requirement already satisfied: pydantic-core==2.33.2 in c:\\users\\user\\appdata\\local\\pypoetry\\cache\\virtualenvs\\mylangchain-app-sbe-yh6w-py3.12\\lib\\site-packages (from pydantic<3.0.0,>=2.7.4->langchain<2.0.0,>=0.3.27->langchain-community) (2.33.2)\n",
      "Requirement already satisfied: typing-inspection>=0.4.0 in c:\\users\\user\\appdata\\local\\pypoetry\\cache\\virtualenvs\\mylangchain-app-sbe-yh6w-py3.12\\lib\\site-packages (from pydantic<3.0.0,>=2.7.4->langchain<2.0.0,>=0.3.27->langchain-community) (0.4.1)\n",
      "Requirement already satisfied: python-dotenv>=0.21.0 in c:\\users\\user\\appdata\\local\\pypoetry\\cache\\virtualenvs\\mylangchain-app-sbe-yh6w-py3.12\\lib\\site-packages (from pydantic-settings<3.0.0,>=2.10.1->langchain-community) (1.1.1)\n",
      "Requirement already satisfied: charset_normalizer<4,>=2 in c:\\users\\user\\appdata\\local\\pypoetry\\cache\\virtualenvs\\mylangchain-app-sbe-yh6w-py3.12\\lib\\site-packages (from requests<3,>=2.32.5->langchain-community) (3.4.3)\n",
      "Requirement already satisfied: idna<4,>=2.5 in c:\\users\\user\\appdata\\local\\pypoetry\\cache\\virtualenvs\\mylangchain-app-sbe-yh6w-py3.12\\lib\\site-packages (from requests<3,>=2.32.5->langchain-community) (3.10)\n",
      "Requirement already satisfied: urllib3<3,>=1.21.1 in c:\\users\\user\\appdata\\local\\pypoetry\\cache\\virtualenvs\\mylangchain-app-sbe-yh6w-py3.12\\lib\\site-packages (from requests<3,>=2.32.5->langchain-community) (2.5.0)\n",
      "Requirement already satisfied: certifi>=2017.4.17 in c:\\users\\user\\appdata\\local\\pypoetry\\cache\\virtualenvs\\mylangchain-app-sbe-yh6w-py3.12\\lib\\site-packages (from requests<3,>=2.32.5->langchain-community) (2025.8.3)\n",
      "Requirement already satisfied: greenlet>=1 in c:\\users\\user\\appdata\\local\\pypoetry\\cache\\virtualenvs\\mylangchain-app-sbe-yh6w-py3.12\\lib\\site-packages (from SQLAlchemy<3,>=1.4->langchain-community) (3.2.4)\n",
      "Requirement already satisfied: mypy-extensions>=0.3.0 in c:\\users\\user\\appdata\\local\\pypoetry\\cache\\virtualenvs\\mylangchain-app-sbe-yh6w-py3.12\\lib\\site-packages (from typing-inspect<1,>=0.4.0->dataclasses-json<0.7,>=0.6.7->langchain-community) (1.1.0)\n",
      "Requirement already satisfied: httpx<1,>=0.23.0 in c:\\users\\user\\appdata\\local\\pypoetry\\cache\\virtualenvs\\mylangchain-app-sbe-yh6w-py3.12\\lib\\site-packages (from langsmith>=0.1.125->langchain-community) (0.28.1)\n",
      "Requirement already satisfied: orjson>=3.9.14 in c:\\users\\user\\appdata\\local\\pypoetry\\cache\\virtualenvs\\mylangchain-app-sbe-yh6w-py3.12\\lib\\site-packages (from langsmith>=0.1.125->langchain-community) (3.11.3)\n",
      "Requirement already satisfied: requests-toolbelt>=1.0.0 in c:\\users\\user\\appdata\\local\\pypoetry\\cache\\virtualenvs\\mylangchain-app-sbe-yh6w-py3.12\\lib\\site-packages (from langsmith>=0.1.125->langchain-community) (1.0.0)\n",
      "Requirement already satisfied: zstandard>=0.23.0 in c:\\users\\user\\appdata\\local\\pypoetry\\cache\\virtualenvs\\mylangchain-app-sbe-yh6w-py3.12\\lib\\site-packages (from langsmith>=0.1.125->langchain-community) (0.25.0)\n",
      "Requirement already satisfied: anyio in c:\\users\\user\\appdata\\local\\pypoetry\\cache\\virtualenvs\\mylangchain-app-sbe-yh6w-py3.12\\lib\\site-packages (from httpx<1,>=0.23.0->langsmith>=0.1.125->langchain-community) (4.10.0)\n",
      "Requirement already satisfied: httpcore==1.* in c:\\users\\user\\appdata\\local\\pypoetry\\cache\\virtualenvs\\mylangchain-app-sbe-yh6w-py3.12\\lib\\site-packages (from httpx<1,>=0.23.0->langsmith>=0.1.125->langchain-community) (1.0.9)\n",
      "Requirement already satisfied: h11>=0.16 in c:\\users\\user\\appdata\\local\\pypoetry\\cache\\virtualenvs\\mylangchain-app-sbe-yh6w-py3.12\\lib\\site-packages (from httpcore==1.*->httpx<1,>=0.23.0->langsmith>=0.1.125->langchain-community) (0.16.0)\n",
      "Requirement already satisfied: sniffio>=1.1 in c:\\users\\user\\appdata\\local\\pypoetry\\cache\\virtualenvs\\mylangchain-app-sbe-yh6w-py3.12\\lib\\site-packages (from anyio->httpx<1,>=0.23.0->langsmith>=0.1.125->langchain-community) (1.3.1)\n",
      "Note: you may need to restart the kernel to use updated packages.\n"
     ]
    }
   ],
   "source": [
    "%pip install langchain-community"
   ]
  },
  {
   "cell_type": "markdown",
   "metadata": {},
   "source": [
    "#### 로컬 Ollama로 설치한 deepseek-r1:1.5b 모델을 사용하기\n",
    "##### ollama run deepseek-r1:1.5b"
   ]
  },
  {
   "cell_type": "code",
   "execution_count": 3,
   "metadata": {},
   "outputs": [
    {
     "name": "stdout",
     "output_type": "stream",
     "text": [
      "<class 'dict'>\n",
      "{'question': 'What is LangChain?', 'text': '<think>\\n\\n</think>\\n\\nLangChain is a platform designed to simplify the process of creating, training, and deploying language models. It provides tools and resources that help developers build language models without needing deep expertise in NLP or machine learning.\\n\\n### Key Features of LangChain:\\n1. **Model Generation**: Tools to generate potential architectures for your model, such as transformer-based models.\\n2. **Training Data Management**: Easy-to-use interfaces to manage, format, and share training data.\\n3. **Model Deployment**: Features to deploy models quickly and easily, even without coding expertise.\\n4. **Continuous Learning**: Integration with tools like AWS SageMaker for continuous learning and adaptation.\\n\\n### Example Workflow with LangChain:\\n1. Use the \"Model Generator\" to create a simple architecture (e.g., transformer-based).\\n2. Use the \"Data Format Builder\" to prepare your data, which can handle text encoding, formatting, and splitting into training and validation sets.\\n3. Use the \"Modeler\" to generate and train the model using your prepared data.\\n\\nLangChain abstracts many of the complexities of NLP, allowing non-technical developers to focus on creating value from their models.'}\n",
      "<think>\n",
      "\n",
      "</think>\n",
      "\n",
      "LangChain is a platform designed to simplify the process of creating, training, and deploying language models. It provides tools and resources that help developers build language models without needing deep expertise in NLP or machine learning.\n",
      "\n",
      "### Key Features of LangChain:\n",
      "1. **Model Generation**: Tools to generate potential architectures for your model, such as transformer-based models.\n",
      "2. **Training Data Management**: Easy-to-use interfaces to manage, format, and share training data.\n",
      "3. **Model Deployment**: Features to deploy models quickly and easily, even without coding expertise.\n",
      "4. **Continuous Learning**: Integration with tools like AWS SageMaker for continuous learning and adaptation.\n",
      "\n",
      "### Example Workflow with LangChain:\n",
      "1. Use the \"Model Generator\" to create a simple architecture (e.g., transformer-based).\n",
      "2. Use the \"Data Format Builder\" to prepare your data, which can handle text encoding, formatting, and splitting into training and validation sets.\n",
      "3. Use the \"Modeler\" to generate and train the model using your prepared data.\n",
      "\n",
      "LangChain abstracts many of the complexities of NLP, allowing non-technical developers to focus on creating value from their models.\n"
     ]
    }
   ],
   "source": [
    "from langchain_ollama import OllamaLLM\n",
    "from langchain.prompts import PromptTemplate\n",
    "\n",
    "# Ollama를 사용하여 로컬에서 실행 중인 deepseek-r1 모델을 로드\n",
    "llm = Ollama(model=\"deepseek-r1:1.5b\")\n",
    "\n",
    "# 프롬프트 템플릿 정의\n",
    "prompt_template = PromptTemplate(\n",
    "    input_variables=[\"question\"],\n",
    "    template=\"Q: {question}\\nA:\"\n",
    ")\n",
    "\n",
    "# LLMChain 생성\n",
    "chain = LLMChain(llm=llm, prompt=prompt_template)\n",
    "\n",
    "# 질문을 입력하고 모델의 응답을 받음\n",
    "question = \"What is LangChain?\"\n",
    "response = chain.invoke({\"question\": question})\n",
    "\n",
    "# 결과 출력\n",
    "print(type(response))\n",
    "print(response)\n",
    "print(response[\"text\"])"
   ]
  },
  {
   "cell_type": "markdown",
   "metadata": {},
   "source": [
    "##### 최신버전 LangChain에서는 ChatOllama와 RunnableSequence(prompt | llm) 를 사용"
   ]
  },
  {
   "cell_type": "code",
   "execution_count": null,
   "metadata": {},
   "outputs": [],
   "source": [
    "from langchain_ollama import ChatOllama\n",
    "from langchain_core.prompts import ChatPromptTemplate\n",
    "\n",
    "# Ollama를 사용하여 로컬에서 실행 중인 llama3.2 모델 로드\n",
    "llm = ChatOllama(model=\"deepseek-r1:1.5b\")\n",
    "\n",
    "# 프롬프트 템플릿 정의\n",
    "# prompt_template = PromptTemplate.from_template(\"Q: {question}\\nA:\")\n",
    "\n",
    "# 더 정확한 응답을 위한 개선된 프롬프트\n",
    "prompt_template = ChatPromptTemplate.from_messages([\n",
    "    (\"system\", \"You are an AI assistant that provides accurate and detailed answers.\"),\n",
    "    (\"human\", \"Q: {question}\\nA:\")\n",
    "])\n",
    "\n",
    "# 최신 LangChain 방식: RunnableSequence 활용\n",
    "chain = prompt_template | llm\n",
    "\n",
    "# 실행 예시\n",
    "question = \"What is Pyhon?\"\n",
    "response = chain.invoke({\"question\": question})\n",
    "\n",
    "print(type(response))\n",
    "print(response)"
   ]
  },
  {
   "cell_type": "code",
   "execution_count": null,
   "metadata": {},
   "outputs": [],
   "source": [
    "print(response.content)"
   ]
  },
  {
   "cell_type": "code",
   "execution_count": null,
   "metadata": {},
   "outputs": [],
   "source": [
    "from langchain_ollama import ChatOllama\n",
    "from langchain_core.prompts import ChatPromptTemplate\n",
    "\n",
    "# Ollama를 사용하여 로컬에서 실행 중인 llama3.2 모델 로드\n",
    "llm = ChatOllama(model=\"qwen2.5:1.5b\")\n",
    "\n",
    "# 더 정확한 응답을 위한 개선된 프롬프트\n",
    "prompt_template = ChatPromptTemplate.from_messages([\n",
    "    (\"system\", \"You are an AI assistant that provides accurate and detailed answers.\"),\n",
    "    (\"human\", \"Q: {question}\\nA:\")\n",
    "])\n",
    "\n",
    "# 최신 LangChain 방식: RunnableSequence 활용\n",
    "chain = prompt_template | llm\n",
    "\n",
    "# 실행 예시\n",
    "question = \"파이썬은 무엇인가요?\"\n",
    "response = chain.invoke({\"question\": question})\n",
    "\n",
    "print(response.content)"
   ]
  }
 ],
 "metadata": {
  "kernelspec": {
   "display_name": "mylangchain-app-SBe-Yh6W-py3.12",
   "language": "python",
   "name": "python3"
  },
  "language_info": {
   "codemirror_mode": {
    "name": "ipython",
    "version": 3
   },
   "file_extension": ".py",
   "mimetype": "text/x-python",
   "name": "python",
   "nbconvert_exporter": "python",
   "pygments_lexer": "ipython3",
   "version": "3.12.7"
  }
 },
 "nbformat": 4,
 "nbformat_minor": 2
}
