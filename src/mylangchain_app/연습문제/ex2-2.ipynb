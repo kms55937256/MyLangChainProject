{
 "cells": [
  {
   "cell_type": "markdown",
   "id": "5037377e",
   "metadata": {},
   "source": [
    "#### 문제 2-2 : 영화 리뷰 감정 분석기"
   ]
  },
  {
   "cell_type": "code",
   "execution_count": 2,
   "id": "d3e850b0",
   "metadata": {},
   "outputs": [
    {
     "name": "stdout",
     "output_type": "stream",
     "text": [
      "gsk_w\n"
     ]
    }
   ],
   "source": [
    "from dotenv import load_dotenv\n",
    "import os\n",
    "# .env 파일을 불러와서 환경 변수로 설정\n",
    "load_dotenv()\n",
    "\n",
    "OPENAI_API_KEY = os.getenv(\"OPENAI_API_KEY\")\n",
    "print(OPENAI_API_KEY[:5])"
   ]
  },
  {
   "cell_type": "code",
   "execution_count": null,
   "id": "3b2f9402",
   "metadata": {},
   "outputs": [
    {
     "name": "stderr",
     "output_type": "stream",
     "text": [
      "c:\\Users\\user\\AppData\\Local\\pypoetry\\Cache\\virtualenvs\\mylangchain-app-SBe-Yh6W-py3.12\\Lib\\site-packages\\tqdm\\auto.py:21: TqdmWarning: IProgress not found. Please update jupyter and ipywidgets. See https://ipywidgets.readthedocs.io/en/stable/user_install.html\n",
      "  from .autonotebook import tqdm as notebook_tqdm\n"
     ]
    }
   ],
   "source": [
    "from langchain_openai import ChatOpenAI\n",
    "from langchain_core.prompts import ChatPromptTemplate\n",
    "from langchain.output_parsers import EnumOutputParser, OutputFixingParser\n",
    "from langchain.schema import OutputParserException\n",
    "\n",
    "from enum import Enum\n",
    "from pprint import pprint\n",
    "\n",
    "# 감정 클래스 정의 (Enum)\n",
    "class Sentiment(str, Enum):\n",
    "    POSITIVE = \"긍정\"\n",
    "    NEGATIVE = \"부정\"\n",
    "    NEUTRAL = \"보통\""
   ]
  },
  {
   "cell_type": "code",
   "execution_count": 4,
   "id": "6865a451",
   "metadata": {},
   "outputs": [
    {
     "name": "stdout",
     "output_type": "stream",
     "text": [
      "감정 분류 출력 형식:\n",
      "Select one of the following options: 긍정, 부정, 중립\n"
     ]
    }
   ],
   "source": [
    "# EnumOutputParser 초기화\n",
    "parser = EnumOutputParser(enum=Sentiment)\n",
    "format_instructions = parser.get_format_instructions()\n",
    "\n",
    "print(\"감정 분류 출력 형식:\")\n",
    "print(format_instructions)"
   ]
  },
  {
   "cell_type": "code",
   "execution_count": 8,
   "id": "93576264",
   "metadata": {},
   "outputs": [
    {
     "name": "stdout",
     "output_type": "stream",
     "text": [
      "프롬프트 템플릿 생성 완료\n"
     ]
    }
   ],
   "source": [
    "# 프롬프트 템플릿\n",
    "template = \"\"\"\n",
    "당신은 텍스트 감정 분석 전문가입니다.\n",
    "다음 텍스트의 감정을 분석하고, 반드시 아래 세 가지 중 하나의 단어로만 답변하세요.\n",
    "\n",
    "텍스트: \"{text}\"\n",
    "\n",
    "{format_instructions}\n",
    "\n",
    "중요 규칙:\n",
    "1. 반드시 \"긍정\", \"부정\", \"보통\" 중 하나의 단어만 출력하세요\n",
    "2. 다른 설명이나 부가 설명을 추가하지 마세요\n",
    "3. 이모지나 특수문자도 포함하지 마세요\n",
    "4. 오직 하나의 단어만 출력하세요\n",
    "\n",
    "답변:\n",
    "\"\"\"\n",
    "\n",
    "prompt = ChatPromptTemplate.from_template(template)\n",
    "prompt = prompt.partial(format_instructions=format_instructions)\n",
    "\n",
    "print(\"프롬프트 템플릿 생성 완료\")"
   ]
  },
  {
   "cell_type": "code",
   "execution_count": 11,
   "id": "3bd0fefa",
   "metadata": {},
   "outputs": [
    {
     "name": "stdout",
     "output_type": "stream",
     "text": [
      "모델 및 파서 설정 완료\n",
      "테스트할 텍스트 5개 준비 완료\n"
     ]
    }
   ],
   "source": [
    "llm = ChatOpenAI(\n",
    "    base_url=\"https://api.groq.com/openai/v1\",\n",
    "    model=\"moonshotai/kimi-k2-instruct-0905\",  \n",
    "    temperature=0.7\n",
    ")\n",
    "\n",
    "fixing_parser = OutputFixingParser.from_llm(parser=parser, llm=llm)\n",
    "\n",
    "print(\"모델 및 파서 설정 완료\")\n",
    "\n",
    "texts = [\n",
    "    \"이 영화 정말 재미없어요. 시간 낭비였습니다.\",  \n",
    "    \"배우들의 연기가 훌륭하고 스토리도 감동적이었어요!\", \n",
    "    \"그냥 무난한 영화였습니다. 나쁘지도 좋지도 않아요.\",  \n",
    "    \"영상미는 좋았지만 연기가 아쉬웠어요.\",              \n",
    "    \"최고의 작품이었습니다! 다시 보고 싶어요.\"            \n",
    "]\n",
    "\n",
    "print(f\"테스트할 텍스트 {len(texts)}개 준비 완료\")"
   ]
  },
  {
   "cell_type": "code",
   "execution_count": 10,
   "id": "85d37b9d",
   "metadata": {},
   "outputs": [
    {
     "name": "stdout",
     "output_type": "stream",
     "text": [
      "=== 실제 감정 분석 결과 ===\n",
      "\n",
      "1. 텍스트: 이 영화 정말 재미없어요. 시간 낭비였습니다.\n",
      "   감정: 부정\n",
      "\n",
      "2. 텍스트: 배우들의 연기가 훌륭하고 스토리도 감동적이었어요!\n",
      "   감정: 긍정\n",
      "\n",
      "3. 텍스트: 그냥 무난한 영화였습니다. 나쁘지도 좋지도 않아요.\n",
      "   감정: 중립\n",
      "\n",
      "4. 텍스트: 영상미는 좋았지만 연기가 아쉬웠어요.\n",
      "   감정: 부정\n",
      "\n",
      "5. 텍스트: 최고의 작품이었습니다! 다시 보고 싶어요.\n",
      "   감정: 긍정\n",
      "\n",
      "=== 결과 요약 ===\n",
      "성공: 5/5 (100.0%)\n",
      "실패: 0/5\n"
     ]
    }
   ],
   "source": [
    "# 안전한 감정 분석 함수\n",
    "def safe_sentiment_analysis(text, use_fixing_parser=True):\n",
    "    try:\n",
    "        chain = prompt | llm | (fixing_parser if use_fixing_parser else parser)\n",
    "        result = chain.invoke({\"text\": text})\n",
    "        return result, None\n",
    "    except OutputParserException as e:\n",
    "        return None, f\"파싱 오류: {str(e)[:100]}...\"\n",
    "    except Exception as e:\n",
    "        return None, f\"일반 오류: {str(e)[:100]}...\"\n",
    "\n",
    "# 실제 감정 분석 실행\n",
    "print(\"=== 실제 감정 분석 결과 ===\")\n",
    "\n",
    "success_count = 0\n",
    "total_count = len(texts)\n",
    "\n",
    "for i, text in enumerate(texts, 1):\n",
    "    print(f\"\\n{i}. 텍스트: {text}\")\n",
    "\n",
    "    result, error = safe_sentiment_analysis(text, use_fixing_parser=True)\n",
    "\n",
    "    if result:\n",
    "        print(f\"   감정: {result.value}\")\n",
    "        success_count += 1\n",
    "    else:\n",
    "        print(f\"   오류: {error}\")\n",
    "        print(\"   기본 파서로 재시도...\")\n",
    "\n",
    "        result2, error2 = safe_sentiment_analysis(text, use_fixing_parser=False)\n",
    "        if result2:\n",
    "            print(f\"   감정: {result2.value} (기본 파서 성공)\")\n",
    "            success_count += 1\n",
    "        else:\n",
    "            print(f\"   재시도 실패: {error2}\")\n",
    "\n",
    "print(f\"\\n=== 결과 요약 ===\")\n",
    "print(f\"성공: {success_count}/{total_count} ({success_count/total_count*100:.1f}%)\")\n",
    "print(f\"실패: {total_count-success_count}/{total_count}\")"
   ]
  }
 ],
 "metadata": {
  "kernelspec": {
   "display_name": "mylangchain-app-SBe-Yh6W-py3.12",
   "language": "python",
   "name": "python3"
  },
  "language_info": {
   "codemirror_mode": {
    "name": "ipython",
    "version": 3
   },
   "file_extension": ".py",
   "mimetype": "text/x-python",
   "name": "python",
   "nbconvert_exporter": "python",
   "pygments_lexer": "ipython3",
   "version": "3.12.7"
  }
 },
 "nbformat": 4,
 "nbformat_minor": 5
}
