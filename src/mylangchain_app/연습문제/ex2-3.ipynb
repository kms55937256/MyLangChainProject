{
 "cells": [
  {
   "cell_type": "markdown",
   "id": "8b42a75a",
   "metadata": {},
   "source": [
    "#### 문제 2-3 : 학생 정보 구조화 시스템"
   ]
  },
  {
   "cell_type": "code",
   "execution_count": 2,
   "id": "d16250cd",
   "metadata": {},
   "outputs": [
    {
     "name": "stdout",
     "output_type": "stream",
     "text": [
      "gsk_w\n"
     ]
    }
   ],
   "source": [
    "from dotenv import load_dotenv\n",
    "import os\n",
    "# .env 파일을 불러와서 환경 변수로 설정\n",
    "load_dotenv()\n",
    "\n",
    "OPENAI_API_KEY = os.getenv(\"OPENAI_API_KEY\")\n",
    "print(OPENAI_API_KEY[:5])"
   ]
  },
  {
   "cell_type": "code",
   "execution_count": 3,
   "id": "362e67f1",
   "metadata": {},
   "outputs": [
    {
     "name": "stderr",
     "output_type": "stream",
     "text": [
      "c:\\Users\\user\\AppData\\Local\\pypoetry\\Cache\\virtualenvs\\mylangchain-app-SBe-Yh6W-py3.12\\Lib\\site-packages\\tqdm\\auto.py:21: TqdmWarning: IProgress not found. Please update jupyter and ipywidgets. See https://ipywidgets.readthedocs.io/en/stable/user_install.html\n",
      "  from .autonotebook import tqdm as notebook_tqdm\n"
     ]
    }
   ],
   "source": [
    "from langchain_openai import ChatOpenAI\n",
    "from langchain_core.prompts import ChatPromptTemplate\n",
    "from langchain.output_parsers import PydanticOutputParser\n",
    "\n",
    "from pydantic import BaseModel, Field\n",
    "from typing import List"
   ]
  },
  {
   "cell_type": "code",
   "execution_count": 4,
   "id": "9a54912e",
   "metadata": {},
   "outputs": [],
   "source": [
    "# 출력 구조를 정의하는 Pydantic 모델\n",
    "class StudentInfo(BaseModel):\n",
    "    name: str = Field(description=\"학생의 이름\")\n",
    "    age: int = Field(description=\"학생의 나이 (정수)\")\n",
    "    major: str = Field(description=\"학생의 전공\")\n",
    "    hobbies: List[str] = Field(description=\"학생의 취미 리스트\")\n",
    "    goal: str = Field(description=\"학생의 목표\")"
   ]
  },
  {
   "cell_type": "code",
   "execution_count": null,
   "id": "d440050b",
   "metadata": {},
   "outputs": [],
   "source": [
    "# Pydantic 출력 파서 초기화\n",
    "parser = PydanticOutputParser(pydantic_object=StudentInfo)"
   ]
  },
  {
   "cell_type": "code",
   "execution_count": 11,
   "id": "2c55056d",
   "metadata": {},
   "outputs": [],
   "source": [
    "# 프롬프트 템플릿 설정\n",
    "template = \"\"\"\n",
    "당신은 학생의 자기소개 텍스트를 분석하는 전문가입니다.\n",
    "다음 자유 형식의 자기소개에서 학생 정보를 추출하여 JSON 형식으로 구조화하세요.\n",
    "\n",
    "자기소개: {intro}\n",
    "\n",
    "{format_instructions}\n",
    "\"\"\"\n",
    "\n",
    "prompt = ChatPromptTemplate.from_template(template)\n",
    "\n",
    "# 파서의 지시사항을 프롬프트에 주입\n",
    "prompt = prompt.partial(\n",
    "    format_instructions=parser.get_format_instructions()\n",
    ")"
   ]
  },
  {
   "cell_type": "code",
   "execution_count": null,
   "id": "00764acf",
   "metadata": {},
   "outputs": [],
   "source": [
    "# 환경변수에서 OpenAI API 키 로드 (실제 사용시 주석 해제)\n",
    "# import os\n",
    "# os.environ[\"OPENAI_API_KEY\"] = \"your-api-key\"\n",
    "\n",
    "# ChatOpenAI 모델 초기화\n",
    "#model = ChatOpenAI(temperature=0.7, model=\"gpt-3.5-turbo\")\n",
    "model = ChatOpenAI(\n",
    "    #api_key=OPENAI_API_KEY,\n",
    "    base_url=\"https://api.groq.com/openai/v1\",  # Groq API 엔드포인트\n",
    "    #model=\"meta-llama/llama-4-scout-17b-16e-instruct\",\n",
    "    model=\"moonshotai/kimi-k2-instruct-0905\",\n",
    "    temperature=0.7\n",
    ")"
   ]
  },
  {
   "cell_type": "code",
   "execution_count": 8,
   "id": "ccab0ec0",
   "metadata": {},
   "outputs": [
    {
     "name": "stdout",
     "output_type": "stream",
     "text": [
      "<class '__main__.StudentInfo'>\n",
      "name='김민수' age=22 major='컴퓨터공학' hobbies=['게임하기', '영화보기', '코딩'] goal='훌륭한 개발자가 되는 것'\n"
     ]
    }
   ],
   "source": [
    "# 체인 구성 및 실행\n",
    "intro = \"안녕하세요! 저는 김민수이고 22살입니다. 컴퓨터공학을 전공하고 있어요. 취미로는 게임하기, 영화보기, 코딩을 좋아합니다. 앞으로 훌륭한 개발자가 되는 것이 목표입니다.\"\n",
    "\n",
    "chain = prompt | model | parser\n",
    "output = chain.invoke({\"intro\": intro})\n",
    "\n",
    "print(type(output))\n",
    "print(output)"
   ]
  },
  {
   "cell_type": "code",
   "execution_count": 9,
   "id": "28687ba5",
   "metadata": {},
   "outputs": [
    {
     "name": "stdout",
     "output_type": "stream",
     "text": [
      "이름: 김민수\n",
      "나이: 22\n",
      "전공: 컴퓨터공학\n",
      "취미: 게임하기, 영화보기, 코딩\n",
      "목표: 훌륭한 개발자가 되는 것\n"
     ]
    }
   ],
   "source": [
    "# 결과 출력\n",
    "print(f\"이름: {output.name}\")\n",
    "print(f\"나이: {output.age}\")\n",
    "print(f\"전공: {output.major}\")\n",
    "print(f\"취미: {', '.join(output.hobbies)}\")\n",
    "print(f\"목표: {output.goal}\")"
   ]
  }
 ],
 "metadata": {
  "kernelspec": {
   "display_name": "mylangchain-app-SBe-Yh6W-py3.12",
   "language": "python",
   "name": "python3"
  },
  "language_info": {
   "codemirror_mode": {
    "name": "ipython",
    "version": 3
   },
   "file_extension": ".py",
   "mimetype": "text/x-python",
   "name": "python",
   "nbconvert_exporter": "python",
   "pygments_lexer": "ipython3",
   "version": "3.12.7"
  }
 },
 "nbformat": 4,
 "nbformat_minor": 5
}
