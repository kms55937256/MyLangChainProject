{
 "cells": [
  {
   "cell_type": "markdown",
   "id": "628606a5",
   "metadata": {},
   "source": [
    "#### 문제 2-4 : 여행 계획 분석기"
   ]
  },
  {
   "cell_type": "code",
   "execution_count": 2,
   "id": "a154b198",
   "metadata": {},
   "outputs": [
    {
     "name": "stdout",
     "output_type": "stream",
     "text": [
      "gsk_w\n"
     ]
    }
   ],
   "source": [
    "from dotenv import load_dotenv\n",
    "import os\n",
    "# .env 파일을 불러와서 환경 변수로 설정\n",
    "load_dotenv()\n",
    "\n",
    "OPENAI_API_KEY = os.getenv(\"OPENAI_API_KEY\")\n",
    "print(OPENAI_API_KEY[:5])"
   ]
  },
  {
   "cell_type": "code",
   "execution_count": 3,
   "id": "8c79e621",
   "metadata": {},
   "outputs": [
    {
     "name": "stderr",
     "output_type": "stream",
     "text": [
      "c:\\Users\\user\\AppData\\Local\\pypoetry\\Cache\\virtualenvs\\mylangchain-app-SBe-Yh6W-py3.12\\Lib\\site-packages\\tqdm\\auto.py:21: TqdmWarning: IProgress not found. Please update jupyter and ipywidgets. See https://ipywidgets.readthedocs.io/en/stable/user_install.html\n",
      "  from .autonotebook import tqdm as notebook_tqdm\n"
     ]
    }
   ],
   "source": [
    "from langchain_openai import ChatOpenAI\n",
    "from langchain_core.prompts import ChatPromptTemplate\n",
    "from langchain.output_parsers import StructuredOutputParser, ResponseSchema\n",
    "\n",
    "from pprint import pprint"
   ]
  },
  {
   "cell_type": "code",
   "execution_count": 13,
   "id": "5f4fefa8",
   "metadata": {},
   "outputs": [],
   "source": [
    "# 출력 구조 정의 (여행지, 기간, 예산, 추천도, 주요 활동 리스트)\n",
    "response_schemas = [\n",
    "    ResponseSchema(name=\"destination\", description=\"여행한 장소 (예: 부산, 제주도)\"),\n",
    "    ResponseSchema(name=\"duration\", description=\"여행 기간 (예: 2박 3일)\"),\n",
    "    ResponseSchema(name=\"budget\", description=\"여행 예산 (예: 30만원)\"),\n",
    "    ResponseSchema(name=\"rating\", description=\"여행 만족도 (1~5점 중 하나, 숫자만 출력)\"),\n",
    "    ResponseSchema(name=\"activities\", description=\"여행 중 주요 활동 리스트. 반드시 문자열 배열로 출력 (예: ['해운대 바다구경', '자갈치시장 회 먹기'])\")\n",
    "]"
   ]
  },
  {
   "cell_type": "code",
   "execution_count": 14,
   "id": "35fcdad9",
   "metadata": {},
   "outputs": [
    {
     "name": "stdout",
     "output_type": "stream",
     "text": [
      "여행 계획 분석기 출력 형식 지시사항:\n",
      "The output should be a markdown code snippet formatted in the following schema, including the leading and trailing \"```json\" and \"```\":\n",
      "\n",
      "```json\n",
      "{\n",
      "\t\"destination\": string  // 여행한 장소 (예: 부산, 제주도)\n",
      "\t\"duration\": string  // 여행 기간 (예: 2박 3일)\n",
      "\t\"budget\": string  // 여행 예산 (예: 30만원)\n",
      "\t\"rating\": string  // 여행 만족도 (1~5점 중 하나, 숫자만 출력)\n",
      "\t\"activities\": string  // 여행 중 주요 활동 리스트. 반드시 문자열 배열로 출력 (예: ['해운대 바다구경', '자갈치시장 회 먹기'])\n",
      "}\n",
      "```\n"
     ]
    }
   ],
   "source": [
    "# 파서 초기화\n",
    "parser = StructuredOutputParser.from_response_schemas(response_schemas)\n",
    "format_instructions = parser.get_format_instructions()\n",
    "\n",
    "print(\"여행 계획 분석기 출력 형식 지시사항:\")\n",
    "print(format_instructions)"
   ]
  },
  {
   "cell_type": "code",
   "execution_count": 15,
   "id": "559e4adb",
   "metadata": {},
   "outputs": [],
   "source": [
    "# 프롬프트 템플릿\n",
    "template = \"\"\"\n",
    "당신은 여행 계획 분석 전문가입니다.\n",
    "다음 여행 후기 또는 계획 텍스트에서 핵심 정보를 추출하여 JSON 형식으로 구조화하세요.\n",
    "\n",
    "1. rating은 반드시 숫자만 출력하세요 (예: \"4\")\n",
    "2. activities는 반드시 문자열 리스트로 출력하세요 (예: [\"해운대 바다구경\", \"자갈치시장 회 먹기\"])\n",
    "\n",
    "여행 텍스트: {travel_text}\n",
    "\n",
    "{format_instructions}\n",
    "\"\"\"\n",
    "\n",
    "prompt = ChatPromptTemplate.from_template(template)\n",
    "prompt = prompt.partial(format_instructions=format_instructions)"
   ]
  },
  {
   "cell_type": "code",
   "execution_count": 16,
   "id": "3fdbf3ec",
   "metadata": {},
   "outputs": [],
   "source": [
    "# 모델 초기화 (temperature=0.5로 설정해 일관성 있는 출력)\n",
    "#model = ChatOpenAI(temperature=0.7, model=\"gpt-3.5-turbo\")\n",
    "model = ChatOpenAI(\n",
    "    #api_key=OPENAI_API_KEY,\n",
    "    base_url=\"https://api.groq.com/openai/v1\",  # Groq API 엔드포인트\n",
    "    #model=\"meta-llama/llama-4-scout-17b-16e-instruct\",  # Spring AI와 동일한 모델\n",
    "    model=\"moonshotai/kimi-k2-instruct-0905\",\n",
    "    temperature=0.7\n",
    ")"
   ]
  },
  {
   "cell_type": "code",
   "execution_count": 17,
   "id": "710cfccb",
   "metadata": {},
   "outputs": [],
   "source": [
    "# 테스트 여행 후기 데이터\n",
    "travel_text = \"\"\"\n",
    "지난 주에 부산으로 2박 3일 여행을 다녀왔어요. \n",
    "총 30만원 정도 썼는데 해운대에서 바다구경하고, 자갈치시장에서 회 먹고, \n",
    "감천문화마을도 구경했어요. 정말 만족스러운 여행이었습니다. \n",
    "5점 만점에 4점 정도 줄 수 있을 것 같아요.\n",
    "\"\"\""
   ]
  },
  {
   "cell_type": "code",
   "execution_count": 18,
   "id": "3c809848",
   "metadata": {},
   "outputs": [
    {
     "name": "stdout",
     "output_type": "stream",
     "text": [
      "===== 여행 분석 결과 =====\n",
      "{'activities': ['해운대 바다구경', '자갈치시장 회 먹기', '감천문화마을 구경'],\n",
      " 'budget': '30만원',\n",
      " 'destination': '부산',\n",
      " 'duration': '2박 3일',\n",
      " 'rating': 4}\n"
     ]
    }
   ],
   "source": [
    "# 체인 실행\n",
    "chain = prompt | model | parser\n",
    "\n",
    "output = chain.invoke({\"travel_text\": travel_text})\n",
    "\n",
    "# 결과 출력 (Pretty Print)\n",
    "print(\"===== 여행 분석 결과 =====\")\n",
    "pprint(output)"
   ]
  }
 ],
 "metadata": {
  "kernelspec": {
   "display_name": "mylangchain-app-SBe-Yh6W-py3.12",
   "language": "python",
   "name": "python3"
  },
  "language_info": {
   "codemirror_mode": {
    "name": "ipython",
    "version": 3
   },
   "file_extension": ".py",
   "mimetype": "text/x-python",
   "name": "python",
   "nbconvert_exporter": "python",
   "pygments_lexer": "ipython3",
   "version": "3.12.7"
  }
 },
 "nbformat": 4,
 "nbformat_minor": 5
}
